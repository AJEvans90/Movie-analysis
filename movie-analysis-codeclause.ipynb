{
 "cells": [
  {
   "cell_type": "code",
   "execution_count": 1,
   "id": "c9c9c27c",
   "metadata": {
    "_cell_guid": "b1076dfc-b9ad-4769-8c92-a6c4dae69d19",
    "_uuid": "8f2839f25d086af736a60e9eeb907d3b93b6e0e5",
    "execution": {
     "iopub.execute_input": "2022-11-28T07:04:34.293389Z",
     "iopub.status.busy": "2022-11-28T07:04:34.292764Z",
     "iopub.status.idle": "2022-11-28T07:04:35.240831Z",
     "shell.execute_reply": "2022-11-28T07:04:35.239614Z"
    },
    "papermill": {
     "duration": 0.960086,
     "end_time": "2022-11-28T07:04:35.243417",
     "exception": false,
     "start_time": "2022-11-28T07:04:34.283331",
     "status": "completed"
    },
    "tags": []
   },
   "outputs": [
    {
     "name": "stdout",
     "output_type": "stream",
     "text": [
      "/kaggle/input/imdb-top-250-movies/movies.csv\n",
      "/kaggle/input/imdb-top-250-movies/datasets/year.csv\n",
      "/kaggle/input/imdb-top-250-movies/datasets/writters.json\n",
      "/kaggle/input/imdb-top-250-movies/datasets/basic_movie_info.csv\n",
      "/kaggle/input/imdb-top-250-movies/datasets/person_role_specific.csv\n",
      "/kaggle/input/imdb-top-250-movies/datasets/basic_member_info.csv\n",
      "/kaggle/input/imdb-top-250-movies/datasets/person_movie_specific.csv\n",
      "/kaggle/input/imdb-top-250-movies/datasets/genre.json\n",
      "/kaggle/input/imdb-top-250-movies/datasets/cast.json\n",
      "/kaggle/input/imdb-top-250-movies/datasets/directors.json\n",
      "/kaggle/input/imdb-top-250-movies/datasets/year.json\n",
      "/kaggle/input/imdb-top-250-movies/datasets/members.csv\n"
     ]
    }
   ],
   "source": [
    "\n",
    "import numpy as np \n",
    "import pandas as pd\n",
    "import seaborn as sns\n",
    "import matplotlib.pyplot as plt\n",
    "\n",
    "import os\n",
    "for dirname, _, filenames in os.walk('/kaggle/input'):\n",
    "    for filename in filenames:\n",
    "        print(os.path.join(dirname, filename))\n",
    "\n"
   ]
  },
  {
   "cell_type": "code",
   "execution_count": 2,
   "id": "4a14e3e7",
   "metadata": {
    "execution": {
     "iopub.execute_input": "2022-11-28T07:04:35.258292Z",
     "iopub.status.busy": "2022-11-28T07:04:35.257706Z",
     "iopub.status.idle": "2022-11-28T07:04:35.279190Z",
     "shell.execute_reply": "2022-11-28T07:04:35.278049Z"
    },
    "papermill": {
     "duration": 0.031782,
     "end_time": "2022-11-28T07:04:35.281897",
     "exception": false,
     "start_time": "2022-11-28T07:04:35.250115",
     "status": "completed"
    },
    "tags": []
   },
   "outputs": [],
   "source": [
    "df = pd.read_csv('/kaggle/input/imdb-top-250-movies/movies.csv')"
   ]
  },
  {
   "cell_type": "code",
   "execution_count": 3,
   "id": "8932dcf6",
   "metadata": {
    "execution": {
     "iopub.execute_input": "2022-11-28T07:04:35.296727Z",
     "iopub.status.busy": "2022-11-28T07:04:35.296112Z",
     "iopub.status.idle": "2022-11-28T07:04:35.329073Z",
     "shell.execute_reply": "2022-11-28T07:04:35.328277Z"
    },
    "papermill": {
     "duration": 0.043203,
     "end_time": "2022-11-28T07:04:35.331577",
     "exception": false,
     "start_time": "2022-11-28T07:04:35.288374",
     "status": "completed"
    },
    "tags": []
   },
   "outputs": [
    {
     "data": {
      "text/html": [
       "<div>\n",
       "<style scoped>\n",
       "    .dataframe tbody tr th:only-of-type {\n",
       "        vertical-align: middle;\n",
       "    }\n",
       "\n",
       "    .dataframe tbody tr th {\n",
       "        vertical-align: top;\n",
       "    }\n",
       "\n",
       "    .dataframe thead th {\n",
       "        text-align: right;\n",
       "    }\n",
       "</style>\n",
       "<table border=\"1\" class=\"dataframe\">\n",
       "  <thead>\n",
       "    <tr style=\"text-align: right;\">\n",
       "      <th></th>\n",
       "      <th>rank</th>\n",
       "      <th>id</th>\n",
       "      <th>name</th>\n",
       "      <th>year</th>\n",
       "      <th>imbd_votes</th>\n",
       "      <th>imdb_rating</th>\n",
       "      <th>certificate</th>\n",
       "      <th>duration</th>\n",
       "      <th>genre</th>\n",
       "      <th>cast_id</th>\n",
       "      <th>cast_name</th>\n",
       "      <th>director_id</th>\n",
       "      <th>director_name</th>\n",
       "      <th>writter_name</th>\n",
       "      <th>writter_id</th>\n",
       "    </tr>\n",
       "  </thead>\n",
       "  <tbody>\n",
       "    <tr>\n",
       "      <th>0</th>\n",
       "      <td>1</td>\n",
       "      <td>tt0111161</td>\n",
       "      <td>The Shawshank Redemption</td>\n",
       "      <td>1994</td>\n",
       "      <td>2601152</td>\n",
       "      <td>9.3</td>\n",
       "      <td>A</td>\n",
       "      <td>142</td>\n",
       "      <td>Drama</td>\n",
       "      <td>nm0000209,nm0000151,nm0348409,nm0006669,nm0000...</td>\n",
       "      <td>Tim Robbins,Morgan Freeman,Bob Gunton,William ...</td>\n",
       "      <td>nm0001104</td>\n",
       "      <td>Frank Darabont</td>\n",
       "      <td>Stephen King,Frank Darabont</td>\n",
       "      <td>nm0000175,nm0001104</td>\n",
       "    </tr>\n",
       "    <tr>\n",
       "      <th>1</th>\n",
       "      <td>2</td>\n",
       "      <td>tt0068646</td>\n",
       "      <td>The Godfather</td>\n",
       "      <td>1972</td>\n",
       "      <td>1796656</td>\n",
       "      <td>9.2</td>\n",
       "      <td>A</td>\n",
       "      <td>175</td>\n",
       "      <td>Crime,Drama</td>\n",
       "      <td>nm0000008,nm0000199,nm0001001,nm0000473,nm0144...</td>\n",
       "      <td>Marlon Brando,Al Pacino,James Caan,Diane Keato...</td>\n",
       "      <td>nm0000338</td>\n",
       "      <td>Francis Ford Coppola</td>\n",
       "      <td>Mario Puzo,Francis Ford Coppola</td>\n",
       "      <td>nm0701374,nm0000338</td>\n",
       "    </tr>\n",
       "    <tr>\n",
       "      <th>2</th>\n",
       "      <td>3</td>\n",
       "      <td>tt0468569</td>\n",
       "      <td>The Dark Knight</td>\n",
       "      <td>2008</td>\n",
       "      <td>2572662</td>\n",
       "      <td>9.0</td>\n",
       "      <td>UA</td>\n",
       "      <td>152</td>\n",
       "      <td>Action,Crime,Drama</td>\n",
       "      <td>nm0000288,nm0005132,nm0001173,nm0000323,nm0350...</td>\n",
       "      <td>Christian Bale,Heath Ledger,Aaron Eckhart,Mich...</td>\n",
       "      <td>nm0634240</td>\n",
       "      <td>Christopher Nolan</td>\n",
       "      <td>Jonathan Nolan,Christopher Nolan,David S. Goyer</td>\n",
       "      <td>nm0634300,nm0634240,nm0275286</td>\n",
       "    </tr>\n",
       "    <tr>\n",
       "      <th>3</th>\n",
       "      <td>4</td>\n",
       "      <td>tt0071562</td>\n",
       "      <td>The Godfather Part II</td>\n",
       "      <td>1974</td>\n",
       "      <td>1237934</td>\n",
       "      <td>9.0</td>\n",
       "      <td>A</td>\n",
       "      <td>202</td>\n",
       "      <td>Crime,Drama</td>\n",
       "      <td>nm0000199,nm0000134,nm0000380,nm0000473,nm0001...</td>\n",
       "      <td>Al Pacino,Robert De Niro,Robert Duvall,Diane K...</td>\n",
       "      <td>nm0000338</td>\n",
       "      <td>Francis Ford Coppola</td>\n",
       "      <td>Francis Ford Coppola,Mario Puzo</td>\n",
       "      <td>nm0000338,nm0701374</td>\n",
       "    </tr>\n",
       "    <tr>\n",
       "      <th>4</th>\n",
       "      <td>5</td>\n",
       "      <td>tt0050083</td>\n",
       "      <td>12 Angry Men</td>\n",
       "      <td>1957</td>\n",
       "      <td>768548</td>\n",
       "      <td>9.0</td>\n",
       "      <td>U</td>\n",
       "      <td>96</td>\n",
       "      <td>Crime,Drama</td>\n",
       "      <td>nm0000020,nm0002011,nm0000842,nm0275835,nm0550...</td>\n",
       "      <td>Henry Fonda,Lee J. Cobb,Martin Balsam,John Fie...</td>\n",
       "      <td>nm0001486</td>\n",
       "      <td>Sidney Lumet</td>\n",
       "      <td>Reginald Rose</td>\n",
       "      <td>nm0741627</td>\n",
       "    </tr>\n",
       "    <tr>\n",
       "      <th>...</th>\n",
       "      <td>...</td>\n",
       "      <td>...</td>\n",
       "      <td>...</td>\n",
       "      <td>...</td>\n",
       "      <td>...</td>\n",
       "      <td>...</td>\n",
       "      <td>...</td>\n",
       "      <td>...</td>\n",
       "      <td>...</td>\n",
       "      <td>...</td>\n",
       "      <td>...</td>\n",
       "      <td>...</td>\n",
       "      <td>...</td>\n",
       "      <td>...</td>\n",
       "      <td>...</td>\n",
       "    </tr>\n",
       "    <tr>\n",
       "      <th>245</th>\n",
       "      <td>246</td>\n",
       "      <td>tt15097216</td>\n",
       "      <td>Jai Bhim</td>\n",
       "      <td>2021</td>\n",
       "      <td>190981</td>\n",
       "      <td>8.9</td>\n",
       "      <td>A</td>\n",
       "      <td>164</td>\n",
       "      <td>Crime,Drama,Mystery</td>\n",
       "      <td>nm1421814,nm7934649,nm8904193,nm8135195,nm0695...</td>\n",
       "      <td>Suriya,Lijo Mol Jose,Manikandan K.,Rajisha Vij...</td>\n",
       "      <td>nm4377096</td>\n",
       "      <td>T.J. Gnanavel</td>\n",
       "      <td>T.J. Gnanavel,Rajendra Sapre</td>\n",
       "      <td>nm4377096,nm13222819</td>\n",
       "    </tr>\n",
       "    <tr>\n",
       "      <th>246</th>\n",
       "      <td>247</td>\n",
       "      <td>tt0103639</td>\n",
       "      <td>Aladdin</td>\n",
       "      <td>1992</td>\n",
       "      <td>406751</td>\n",
       "      <td>8.0</td>\n",
       "      <td>U</td>\n",
       "      <td>90</td>\n",
       "      <td>Animation,Adventure,Comedy</td>\n",
       "      <td>nm0918334,nm0000245,nm0488306,nm0293455,nm0919...</td>\n",
       "      <td>Scott Weinger,Robin Williams,Linda Larkin,Jona...</td>\n",
       "      <td>nm0166256,nm0615780</td>\n",
       "      <td>Ron Clements,John Musker</td>\n",
       "      <td>Ron Clements,John Musker,Ted Elliott</td>\n",
       "      <td>nm0166256,nm0615780,nm0254645</td>\n",
       "    </tr>\n",
       "    <tr>\n",
       "      <th>247</th>\n",
       "      <td>248</td>\n",
       "      <td>tt0083987</td>\n",
       "      <td>Gandhi</td>\n",
       "      <td>1982</td>\n",
       "      <td>228938</td>\n",
       "      <td>8.1</td>\n",
       "      <td>U</td>\n",
       "      <td>191</td>\n",
       "      <td>Biography,Drama</td>\n",
       "      <td>nm0001426,nm0000024,nm0368990,nm0786022,nm0000...</td>\n",
       "      <td>Ben Kingsley,John Gielgud,Rohini Hattangadi,Ro...</td>\n",
       "      <td>nm0000277</td>\n",
       "      <td>Richard Attenborough</td>\n",
       "      <td>John Briley</td>\n",
       "      <td>nm0109300</td>\n",
       "    </tr>\n",
       "    <tr>\n",
       "      <th>248</th>\n",
       "      <td>249</td>\n",
       "      <td>tt1454029</td>\n",
       "      <td>The Help</td>\n",
       "      <td>2011</td>\n",
       "      <td>451856</td>\n",
       "      <td>8.1</td>\n",
       "      <td>UA</td>\n",
       "      <td>146</td>\n",
       "      <td>Drama</td>\n",
       "      <td>nm1297015,nm0205626,nm0818055,nm0397171,nm1567...</td>\n",
       "      <td>Emma Stone,Viola Davis,Octavia Spencer,Bryce D...</td>\n",
       "      <td>nm0853238</td>\n",
       "      <td>Tate Taylor</td>\n",
       "      <td>Tate Taylor,Kathryn Stockett</td>\n",
       "      <td>nm0853238,nm3543826</td>\n",
       "    </tr>\n",
       "    <tr>\n",
       "      <th>249</th>\n",
       "      <td>250</td>\n",
       "      <td>tt0101414</td>\n",
       "      <td>Beauty and the Beast</td>\n",
       "      <td>1991</td>\n",
       "      <td>445617</td>\n",
       "      <td>8.0</td>\n",
       "      <td>U</td>\n",
       "      <td>84</td>\n",
       "      <td>Animation,Family,Fantasy</td>\n",
       "      <td>nm0641314,nm0000913,nm0181425,nm0263591,nm0001...</td>\n",
       "      <td>Paige O'Hara,Robby Benson,Jesse Corti,Rex Ever...</td>\n",
       "      <td>nm0873779,nm0936374</td>\n",
       "      <td>Gary Trousdale,Kirk Wise</td>\n",
       "      <td>Linda Woolverton,Brenda Chapman,Chris Sanders</td>\n",
       "      <td>nm0941314,nm0152312,nm0761498</td>\n",
       "    </tr>\n",
       "  </tbody>\n",
       "</table>\n",
       "<p>250 rows × 15 columns</p>\n",
       "</div>"
      ],
      "text/plain": [
       "     rank          id                      name  year  imbd_votes  \\\n",
       "0       1   tt0111161  The Shawshank Redemption  1994     2601152   \n",
       "1       2   tt0068646             The Godfather  1972     1796656   \n",
       "2       3   tt0468569           The Dark Knight  2008     2572662   \n",
       "3       4   tt0071562     The Godfather Part II  1974     1237934   \n",
       "4       5   tt0050083              12 Angry Men  1957      768548   \n",
       "..    ...         ...                       ...   ...         ...   \n",
       "245   246  tt15097216                  Jai Bhim  2021      190981   \n",
       "246   247   tt0103639                   Aladdin  1992      406751   \n",
       "247   248   tt0083987                    Gandhi  1982      228938   \n",
       "248   249   tt1454029                  The Help  2011      451856   \n",
       "249   250   tt0101414      Beauty and the Beast  1991      445617   \n",
       "\n",
       "     imdb_rating certificate duration                       genre  \\\n",
       "0            9.3           A      142                       Drama   \n",
       "1            9.2           A      175                 Crime,Drama   \n",
       "2            9.0          UA      152          Action,Crime,Drama   \n",
       "3            9.0           A      202                 Crime,Drama   \n",
       "4            9.0           U       96                 Crime,Drama   \n",
       "..           ...         ...      ...                         ...   \n",
       "245          8.9           A      164         Crime,Drama,Mystery   \n",
       "246          8.0           U       90  Animation,Adventure,Comedy   \n",
       "247          8.1           U      191             Biography,Drama   \n",
       "248          8.1          UA      146                       Drama   \n",
       "249          8.0           U       84    Animation,Family,Fantasy   \n",
       "\n",
       "                                               cast_id  \\\n",
       "0    nm0000209,nm0000151,nm0348409,nm0006669,nm0000...   \n",
       "1    nm0000008,nm0000199,nm0001001,nm0000473,nm0144...   \n",
       "2    nm0000288,nm0005132,nm0001173,nm0000323,nm0350...   \n",
       "3    nm0000199,nm0000134,nm0000380,nm0000473,nm0001...   \n",
       "4    nm0000020,nm0002011,nm0000842,nm0275835,nm0550...   \n",
       "..                                                 ...   \n",
       "245  nm1421814,nm7934649,nm8904193,nm8135195,nm0695...   \n",
       "246  nm0918334,nm0000245,nm0488306,nm0293455,nm0919...   \n",
       "247  nm0001426,nm0000024,nm0368990,nm0786022,nm0000...   \n",
       "248  nm1297015,nm0205626,nm0818055,nm0397171,nm1567...   \n",
       "249  nm0641314,nm0000913,nm0181425,nm0263591,nm0001...   \n",
       "\n",
       "                                             cast_name          director_id  \\\n",
       "0    Tim Robbins,Morgan Freeman,Bob Gunton,William ...            nm0001104   \n",
       "1    Marlon Brando,Al Pacino,James Caan,Diane Keato...            nm0000338   \n",
       "2    Christian Bale,Heath Ledger,Aaron Eckhart,Mich...            nm0634240   \n",
       "3    Al Pacino,Robert De Niro,Robert Duvall,Diane K...            nm0000338   \n",
       "4    Henry Fonda,Lee J. Cobb,Martin Balsam,John Fie...            nm0001486   \n",
       "..                                                 ...                  ...   \n",
       "245  Suriya,Lijo Mol Jose,Manikandan K.,Rajisha Vij...            nm4377096   \n",
       "246  Scott Weinger,Robin Williams,Linda Larkin,Jona...  nm0166256,nm0615780   \n",
       "247  Ben Kingsley,John Gielgud,Rohini Hattangadi,Ro...            nm0000277   \n",
       "248  Emma Stone,Viola Davis,Octavia Spencer,Bryce D...            nm0853238   \n",
       "249  Paige O'Hara,Robby Benson,Jesse Corti,Rex Ever...  nm0873779,nm0936374   \n",
       "\n",
       "                director_name  \\\n",
       "0              Frank Darabont   \n",
       "1        Francis Ford Coppola   \n",
       "2           Christopher Nolan   \n",
       "3        Francis Ford Coppola   \n",
       "4                Sidney Lumet   \n",
       "..                        ...   \n",
       "245             T.J. Gnanavel   \n",
       "246  Ron Clements,John Musker   \n",
       "247      Richard Attenborough   \n",
       "248               Tate Taylor   \n",
       "249  Gary Trousdale,Kirk Wise   \n",
       "\n",
       "                                        writter_name  \\\n",
       "0                        Stephen King,Frank Darabont   \n",
       "1                    Mario Puzo,Francis Ford Coppola   \n",
       "2    Jonathan Nolan,Christopher Nolan,David S. Goyer   \n",
       "3                    Francis Ford Coppola,Mario Puzo   \n",
       "4                                      Reginald Rose   \n",
       "..                                               ...   \n",
       "245                     T.J. Gnanavel,Rajendra Sapre   \n",
       "246             Ron Clements,John Musker,Ted Elliott   \n",
       "247                                      John Briley   \n",
       "248                     Tate Taylor,Kathryn Stockett   \n",
       "249    Linda Woolverton,Brenda Chapman,Chris Sanders   \n",
       "\n",
       "                        writter_id  \n",
       "0              nm0000175,nm0001104  \n",
       "1              nm0701374,nm0000338  \n",
       "2    nm0634300,nm0634240,nm0275286  \n",
       "3              nm0000338,nm0701374  \n",
       "4                        nm0741627  \n",
       "..                             ...  \n",
       "245           nm4377096,nm13222819  \n",
       "246  nm0166256,nm0615780,nm0254645  \n",
       "247                      nm0109300  \n",
       "248            nm0853238,nm3543826  \n",
       "249  nm0941314,nm0152312,nm0761498  \n",
       "\n",
       "[250 rows x 15 columns]"
      ]
     },
     "execution_count": 3,
     "metadata": {},
     "output_type": "execute_result"
    }
   ],
   "source": [
    "df\n"
   ]
  },
  {
   "cell_type": "code",
   "execution_count": 4,
   "id": "67f8fa60",
   "metadata": {
    "execution": {
     "iopub.execute_input": "2022-11-28T07:04:35.346797Z",
     "iopub.status.busy": "2022-11-28T07:04:35.346340Z",
     "iopub.status.idle": "2022-11-28T07:04:35.354840Z",
     "shell.execute_reply": "2022-11-28T07:04:35.353777Z"
    },
    "papermill": {
     "duration": 0.018747,
     "end_time": "2022-11-28T07:04:35.357004",
     "exception": false,
     "start_time": "2022-11-28T07:04:35.338257",
     "status": "completed"
    },
    "tags": []
   },
   "outputs": [
    {
     "data": {
      "text/plain": [
       "rank             0\n",
       "id               0\n",
       "name             0\n",
       "year             0\n",
       "imbd_votes       0\n",
       "imdb_rating      0\n",
       "certificate      1\n",
       "duration         0\n",
       "genre            0\n",
       "cast_id          0\n",
       "cast_name        0\n",
       "director_id      0\n",
       "director_name    0\n",
       "writter_name     0\n",
       "writter_id       0\n",
       "dtype: int64"
      ]
     },
     "execution_count": 4,
     "metadata": {},
     "output_type": "execute_result"
    }
   ],
   "source": [
    "df.isnull().sum()"
   ]
  },
  {
   "cell_type": "markdown",
   "id": "716ecd66",
   "metadata": {
    "papermill": {
     "duration": 0.006467,
     "end_time": "2022-11-28T07:04:35.370555",
     "exception": false,
     "start_time": "2022-11-28T07:04:35.364088",
     "status": "completed"
    },
    "tags": []
   },
   "source": [
    "**1. Name of top 5 movies according to the IMDb?**"
   ]
  },
  {
   "cell_type": "code",
   "execution_count": 5,
   "id": "6dff513d",
   "metadata": {
    "execution": {
     "iopub.execute_input": "2022-11-28T07:04:35.385691Z",
     "iopub.status.busy": "2022-11-28T07:04:35.385074Z",
     "iopub.status.idle": "2022-11-28T07:04:35.394048Z",
     "shell.execute_reply": "2022-11-28T07:04:35.392941Z"
    },
    "papermill": {
     "duration": 0.019163,
     "end_time": "2022-11-28T07:04:35.396359",
     "exception": false,
     "start_time": "2022-11-28T07:04:35.377196",
     "status": "completed"
    },
    "tags": []
   },
   "outputs": [
    {
     "name": "stdout",
     "output_type": "stream",
     "text": [
      "The Shawshank Redemption\n",
      "The Godfather\n",
      "The Dark Knight\n",
      "The Godfather Part II\n",
      "12 Angry Men\n"
     ]
    }
   ],
   "source": [
    "for name in df.head()['name'].values:\n",
    "    print(name)"
   ]
  },
  {
   "cell_type": "markdown",
   "id": "5bd9f214",
   "metadata": {
    "papermill": {
     "duration": 0.006397,
     "end_time": "2022-11-28T07:04:35.409516",
     "exception": false,
     "start_time": "2022-11-28T07:04:35.403119",
     "status": "completed"
    },
    "tags": []
   },
   "source": [
    "**2. Top 5 most voted movies?**"
   ]
  },
  {
   "cell_type": "code",
   "execution_count": 6,
   "id": "2fd14bd3",
   "metadata": {
    "execution": {
     "iopub.execute_input": "2022-11-28T07:04:35.426692Z",
     "iopub.status.busy": "2022-11-28T07:04:35.425491Z",
     "iopub.status.idle": "2022-11-28T07:04:35.434406Z",
     "shell.execute_reply": "2022-11-28T07:04:35.433327Z"
    },
    "papermill": {
     "duration": 0.020535,
     "end_time": "2022-11-28T07:04:35.436643",
     "exception": false,
     "start_time": "2022-11-28T07:04:35.416108",
     "status": "completed"
    },
    "tags": []
   },
   "outputs": [
    {
     "name": "stdout",
     "output_type": "stream",
     "text": [
      "The Shawshank Redemption\n",
      "The Dark Knight\n",
      "Inception\n",
      "Fight Club\n",
      "Forrest Gump\n"
     ]
    }
   ],
   "source": [
    "for name in df.sort_values(by = 'imbd_votes', ascending = False).head()['name'].values:\n",
    "    print(name)"
   ]
  },
  {
   "cell_type": "markdown",
   "id": "6e2d2db5",
   "metadata": {
    "papermill": {
     "duration": 0.007522,
     "end_time": "2022-11-28T07:04:35.451086",
     "exception": false,
     "start_time": "2022-11-28T07:04:35.443564",
     "status": "completed"
    },
    "tags": []
   },
   "source": [
    "**3. Top 5 most oldest movies?**"
   ]
  },
  {
   "cell_type": "code",
   "execution_count": 7,
   "id": "04f29882",
   "metadata": {
    "execution": {
     "iopub.execute_input": "2022-11-28T07:04:35.467901Z",
     "iopub.status.busy": "2022-11-28T07:04:35.467177Z",
     "iopub.status.idle": "2022-11-28T07:04:35.487273Z",
     "shell.execute_reply": "2022-11-28T07:04:35.486095Z"
    },
    "papermill": {
     "duration": 0.031213,
     "end_time": "2022-11-28T07:04:35.490073",
     "exception": false,
     "start_time": "2022-11-28T07:04:35.458860",
     "status": "completed"
    },
    "tags": []
   },
   "outputs": [
    {
     "data": {
      "text/html": [
       "<div>\n",
       "<style scoped>\n",
       "    .dataframe tbody tr th:only-of-type {\n",
       "        vertical-align: middle;\n",
       "    }\n",
       "\n",
       "    .dataframe tbody tr th {\n",
       "        vertical-align: top;\n",
       "    }\n",
       "\n",
       "    .dataframe thead th {\n",
       "        text-align: right;\n",
       "    }\n",
       "</style>\n",
       "<table border=\"1\" class=\"dataframe\">\n",
       "  <thead>\n",
       "    <tr style=\"text-align: right;\">\n",
       "      <th></th>\n",
       "      <th>rank</th>\n",
       "      <th>id</th>\n",
       "      <th>name</th>\n",
       "      <th>year</th>\n",
       "      <th>imbd_votes</th>\n",
       "      <th>imdb_rating</th>\n",
       "      <th>certificate</th>\n",
       "      <th>duration</th>\n",
       "      <th>genre</th>\n",
       "      <th>cast_id</th>\n",
       "      <th>cast_name</th>\n",
       "      <th>director_id</th>\n",
       "      <th>director_name</th>\n",
       "      <th>writter_name</th>\n",
       "      <th>writter_id</th>\n",
       "    </tr>\n",
       "  </thead>\n",
       "  <tbody>\n",
       "    <tr>\n",
       "      <th>128</th>\n",
       "      <td>129</td>\n",
       "      <td>tt0012349</td>\n",
       "      <td>The Kid</td>\n",
       "      <td>1921</td>\n",
       "      <td>125041</td>\n",
       "      <td>8.3</td>\n",
       "      <td>Passed</td>\n",
       "      <td>68</td>\n",
       "      <td>Comedy,Drama,Family</td>\n",
       "      <td>nm0000122,nm0701012,nm0001067,nm0588033,nm0042...</td>\n",
       "      <td>Charles Chaplin,Edna Purviance,Jackie Coogan,C...</td>\n",
       "      <td>nm0000122</td>\n",
       "      <td>Charles Chaplin</td>\n",
       "      <td>Charles Chaplin</td>\n",
       "      <td>nm0000122</td>\n",
       "    </tr>\n",
       "    <tr>\n",
       "      <th>193</th>\n",
       "      <td>194</td>\n",
       "      <td>tt0015324</td>\n",
       "      <td>Sherlock Jr.</td>\n",
       "      <td>1924</td>\n",
       "      <td>48939</td>\n",
       "      <td>8.2</td>\n",
       "      <td>Passed</td>\n",
       "      <td>45</td>\n",
       "      <td>Action,Comedy,Romance</td>\n",
       "      <td>nm0000036,nm0570230,nm0444172,nm0175068,nm0186...</td>\n",
       "      <td>Buster Keaton,Kathryn McGuire,Joe Keaton,Erwin...</td>\n",
       "      <td>nm0000036</td>\n",
       "      <td>Buster Keaton</td>\n",
       "      <td>Jean C. Havez,Joseph A. Mitchell,Clyde Bruckman</td>\n",
       "      <td>nm0369841,nm0593477,nm0115669</td>\n",
       "    </tr>\n",
       "    <tr>\n",
       "      <th>174</th>\n",
       "      <td>175</td>\n",
       "      <td>tt0015864</td>\n",
       "      <td>The Gold Rush</td>\n",
       "      <td>1925</td>\n",
       "      <td>110167</td>\n",
       "      <td>8.2</td>\n",
       "      <td>Passed</td>\n",
       "      <td>95</td>\n",
       "      <td>Adventure,Comedy,Drama</td>\n",
       "      <td>nm0000122,nm0841501,nm0615306,nm0074788,nm0906...</td>\n",
       "      <td>Charles Chaplin,Mack Swain,Tom Murray,Henry Be...</td>\n",
       "      <td>nm0000122</td>\n",
       "      <td>Charles Chaplin</td>\n",
       "      <td>Charles Chaplin</td>\n",
       "      <td>nm0000122</td>\n",
       "    </tr>\n",
       "    <tr>\n",
       "      <th>182</th>\n",
       "      <td>183</td>\n",
       "      <td>tt0017925</td>\n",
       "      <td>The General</td>\n",
       "      <td>1926</td>\n",
       "      <td>90362</td>\n",
       "      <td>8.2</td>\n",
       "      <td>Passed</td>\n",
       "      <td>67</td>\n",
       "      <td>Action,Adventure,Comedy</td>\n",
       "      <td>nm0000036,nm0533045,nm0147070,nm0267650,nm0089...</td>\n",
       "      <td>Buster Keaton,Marion Mack,Glen Cavender,Jim Fa...</td>\n",
       "      <td>nm0115669,nm0000036</td>\n",
       "      <td>Clyde Bruckman,Buster Keaton</td>\n",
       "      <td>Buster Keaton,Clyde Bruckman,Al Boasberg</td>\n",
       "      <td>nm0000036,nm0115669,nm0090213</td>\n",
       "    </tr>\n",
       "    <tr>\n",
       "      <th>114</th>\n",
       "      <td>115</td>\n",
       "      <td>tt0017136</td>\n",
       "      <td>Metropolis</td>\n",
       "      <td>1927</td>\n",
       "      <td>172188</td>\n",
       "      <td>8.3</td>\n",
       "      <td>Not Rated</td>\n",
       "      <td>153</td>\n",
       "      <td>Drama,Sci-Fi</td>\n",
       "      <td>nm0375609,nm0002154,nm0297054,nm0459030,nm0003...</td>\n",
       "      <td>Brigitte Helm,Alfred Abel,Gustav Fröhlich,Rudo...</td>\n",
       "      <td>nm0000485</td>\n",
       "      <td>Fritz Lang</td>\n",
       "      <td>Thea von Harbou,Fritz Lang</td>\n",
       "      <td>nm0902376,nm0000485</td>\n",
       "    </tr>\n",
       "  </tbody>\n",
       "</table>\n",
       "</div>"
      ],
      "text/plain": [
       "     rank         id           name  year  imbd_votes  imdb_rating  \\\n",
       "128   129  tt0012349        The Kid  1921      125041          8.3   \n",
       "193   194  tt0015324   Sherlock Jr.  1924       48939          8.2   \n",
       "174   175  tt0015864  The Gold Rush  1925      110167          8.2   \n",
       "182   183  tt0017925    The General  1926       90362          8.2   \n",
       "114   115  tt0017136     Metropolis  1927      172188          8.3   \n",
       "\n",
       "    certificate duration                    genre  \\\n",
       "128      Passed       68      Comedy,Drama,Family   \n",
       "193      Passed       45    Action,Comedy,Romance   \n",
       "174      Passed       95   Adventure,Comedy,Drama   \n",
       "182      Passed       67  Action,Adventure,Comedy   \n",
       "114   Not Rated      153             Drama,Sci-Fi   \n",
       "\n",
       "                                               cast_id  \\\n",
       "128  nm0000122,nm0701012,nm0001067,nm0588033,nm0042...   \n",
       "193  nm0000036,nm0570230,nm0444172,nm0175068,nm0186...   \n",
       "174  nm0000122,nm0841501,nm0615306,nm0074788,nm0906...   \n",
       "182  nm0000036,nm0533045,nm0147070,nm0267650,nm0089...   \n",
       "114  nm0375609,nm0002154,nm0297054,nm0459030,nm0003...   \n",
       "\n",
       "                                             cast_name          director_id  \\\n",
       "128  Charles Chaplin,Edna Purviance,Jackie Coogan,C...            nm0000122   \n",
       "193  Buster Keaton,Kathryn McGuire,Joe Keaton,Erwin...            nm0000036   \n",
       "174  Charles Chaplin,Mack Swain,Tom Murray,Henry Be...            nm0000122   \n",
       "182  Buster Keaton,Marion Mack,Glen Cavender,Jim Fa...  nm0115669,nm0000036   \n",
       "114  Brigitte Helm,Alfred Abel,Gustav Fröhlich,Rudo...            nm0000485   \n",
       "\n",
       "                    director_name  \\\n",
       "128               Charles Chaplin   \n",
       "193                 Buster Keaton   \n",
       "174               Charles Chaplin   \n",
       "182  Clyde Bruckman,Buster Keaton   \n",
       "114                    Fritz Lang   \n",
       "\n",
       "                                        writter_name  \\\n",
       "128                                  Charles Chaplin   \n",
       "193  Jean C. Havez,Joseph A. Mitchell,Clyde Bruckman   \n",
       "174                                  Charles Chaplin   \n",
       "182         Buster Keaton,Clyde Bruckman,Al Boasberg   \n",
       "114                       Thea von Harbou,Fritz Lang   \n",
       "\n",
       "                        writter_id  \n",
       "128                      nm0000122  \n",
       "193  nm0369841,nm0593477,nm0115669  \n",
       "174                      nm0000122  \n",
       "182  nm0000036,nm0115669,nm0090213  \n",
       "114            nm0902376,nm0000485  "
      ]
     },
     "execution_count": 7,
     "metadata": {},
     "output_type": "execute_result"
    }
   ],
   "source": [
    "df.sort_values(by = 'year', ascending = True).head()"
   ]
  },
  {
   "cell_type": "markdown",
   "id": "294ba1c4",
   "metadata": {
    "papermill": {
     "duration": 0.007246,
     "end_time": "2022-11-28T07:04:35.505022",
     "exception": false,
     "start_time": "2022-11-28T07:04:35.497776",
     "status": "completed"
    },
    "tags": []
   },
   "source": [
    "**4. Name all the genres in the list individually**"
   ]
  },
  {
   "cell_type": "code",
   "execution_count": 8,
   "id": "3251ee38",
   "metadata": {
    "execution": {
     "iopub.execute_input": "2022-11-28T07:04:35.521069Z",
     "iopub.status.busy": "2022-11-28T07:04:35.520677Z",
     "iopub.status.idle": "2022-11-28T07:04:35.531122Z",
     "shell.execute_reply": "2022-11-28T07:04:35.529922Z"
    },
    "papermill": {
     "duration": 0.021243,
     "end_time": "2022-11-28T07:04:35.533522",
     "exception": false,
     "start_time": "2022-11-28T07:04:35.512279",
     "status": "completed"
    },
    "tags": []
   },
   "outputs": [
    {
     "data": {
      "text/plain": [
       "['Western',\n",
       " 'Romance',\n",
       " 'Drama',\n",
       " 'Action',\n",
       " 'History',\n",
       " 'Music',\n",
       " 'Sport',\n",
       " 'Fantasy',\n",
       " 'Sci-Fi',\n",
       " 'Mystery',\n",
       " 'Comedy',\n",
       " 'Musical',\n",
       " 'Crime',\n",
       " 'Family',\n",
       " 'Thriller',\n",
       " 'Animation',\n",
       " 'Biography',\n",
       " 'Adventure',\n",
       " 'War',\n",
       " 'Film-Noir',\n",
       " 'Horror']"
      ]
     },
     "execution_count": 8,
     "metadata": {},
     "output_type": "execute_result"
    }
   ],
   "source": [
    "genre = []\n",
    "\n",
    "for i in df['genre']:\n",
    "    genre += i.split(',')\n",
    "\n",
    "    unique_gen = list(set(genre))\n",
    "unique_gen"
   ]
  },
  {
   "cell_type": "markdown",
   "id": "0bf9ee15",
   "metadata": {
    "papermill": {
     "duration": 0.007092,
     "end_time": "2022-11-28T07:04:35.548058",
     "exception": false,
     "start_time": "2022-11-28T07:04:35.540966",
     "status": "completed"
    },
    "tags": []
   },
   "source": [
    "**5. Show the number of movies from all the above genres**"
   ]
  },
  {
   "cell_type": "code",
   "execution_count": 9,
   "id": "81995b16",
   "metadata": {
    "execution": {
     "iopub.execute_input": "2022-11-28T07:04:35.566426Z",
     "iopub.status.busy": "2022-11-28T07:04:35.565775Z",
     "iopub.status.idle": "2022-11-28T07:04:35.573999Z",
     "shell.execute_reply": "2022-11-28T07:04:35.572704Z"
    },
    "papermill": {
     "duration": 0.020816,
     "end_time": "2022-11-28T07:04:35.576214",
     "exception": false,
     "start_time": "2022-11-28T07:04:35.555398",
     "status": "completed"
    },
    "tags": []
   },
   "outputs": [
    {
     "name": "stdout",
     "output_type": "stream",
     "text": [
      "Western 6\n",
      "Romance 23\n",
      "Drama 177\n",
      "Action 49\n",
      "History 10\n",
      "Music 5\n",
      "Sport 5\n",
      "Fantasy 16\n",
      "Sci-Fi 20\n",
      "Mystery 31\n",
      "Comedy 47\n",
      "Musical 1\n",
      "Crime 51\n",
      "Family 13\n",
      "Thriller 30\n",
      "Animation 23\n",
      "Biography 29\n",
      "Adventure 59\n",
      "War 23\n",
      "Film-Noir 4\n",
      "Horror 6\n"
     ]
    }
   ],
   "source": [
    "for gen in unique_gen:\n",
    "    c = 0\n",
    "    for genre in df['genre']:\n",
    "        if(gen in genre):\n",
    "            c += 1\n",
    "    print(gen, c)\n",
    "    \n",
    "\n"
   ]
  },
  {
   "cell_type": "markdown",
   "id": "abf86275",
   "metadata": {
    "papermill": {
     "duration": 0.00712,
     "end_time": "2022-11-28T07:04:35.590725",
     "exception": false,
     "start_time": "2022-11-28T07:04:35.583605",
     "status": "completed"
    },
    "tags": []
   },
   "source": [
    "# From the above analysis we can know that in order for a film to be in the top 250 imdb rating, it most probably should be of drama genre. And least likely to be of musical genre."
   ]
  },
  {
   "cell_type": "markdown",
   "id": "55bd2615",
   "metadata": {
    "papermill": {
     "duration": 0.007128,
     "end_time": "2022-11-28T07:04:35.605300",
     "exception": false,
     "start_time": "2022-11-28T07:04:35.598172",
     "status": "completed"
    },
    "tags": []
   },
   "source": [
    "**6. Get Overall statistics about the data.**"
   ]
  },
  {
   "cell_type": "code",
   "execution_count": 10,
   "id": "119f65ae",
   "metadata": {
    "execution": {
     "iopub.execute_input": "2022-11-28T07:04:35.622390Z",
     "iopub.status.busy": "2022-11-28T07:04:35.621743Z",
     "iopub.status.idle": "2022-11-28T07:04:35.674333Z",
     "shell.execute_reply": "2022-11-28T07:04:35.673175Z"
    },
    "papermill": {
     "duration": 0.064098,
     "end_time": "2022-11-28T07:04:35.676868",
     "exception": false,
     "start_time": "2022-11-28T07:04:35.612770",
     "status": "completed"
    },
    "tags": []
   },
   "outputs": [
    {
     "data": {
      "text/html": [
       "<div>\n",
       "<style scoped>\n",
       "    .dataframe tbody tr th:only-of-type {\n",
       "        vertical-align: middle;\n",
       "    }\n",
       "\n",
       "    .dataframe tbody tr th {\n",
       "        vertical-align: top;\n",
       "    }\n",
       "\n",
       "    .dataframe thead th {\n",
       "        text-align: right;\n",
       "    }\n",
       "</style>\n",
       "<table border=\"1\" class=\"dataframe\">\n",
       "  <thead>\n",
       "    <tr style=\"text-align: right;\">\n",
       "      <th></th>\n",
       "      <th>rank</th>\n",
       "      <th>id</th>\n",
       "      <th>name</th>\n",
       "      <th>year</th>\n",
       "      <th>imbd_votes</th>\n",
       "      <th>imdb_rating</th>\n",
       "      <th>certificate</th>\n",
       "      <th>duration</th>\n",
       "      <th>genre</th>\n",
       "      <th>cast_id</th>\n",
       "      <th>cast_name</th>\n",
       "      <th>director_id</th>\n",
       "      <th>director_name</th>\n",
       "      <th>writter_name</th>\n",
       "      <th>writter_id</th>\n",
       "    </tr>\n",
       "  </thead>\n",
       "  <tbody>\n",
       "    <tr>\n",
       "      <th>count</th>\n",
       "      <td>250.000000</td>\n",
       "      <td>250</td>\n",
       "      <td>250</td>\n",
       "      <td>250.000000</td>\n",
       "      <td>2.500000e+02</td>\n",
       "      <td>250.000000</td>\n",
       "      <td>249</td>\n",
       "      <td>250</td>\n",
       "      <td>250</td>\n",
       "      <td>250</td>\n",
       "      <td>250</td>\n",
       "      <td>250</td>\n",
       "      <td>250</td>\n",
       "      <td>250</td>\n",
       "      <td>250</td>\n",
       "    </tr>\n",
       "    <tr>\n",
       "      <th>unique</th>\n",
       "      <td>NaN</td>\n",
       "      <td>250</td>\n",
       "      <td>250</td>\n",
       "      <td>NaN</td>\n",
       "      <td>NaN</td>\n",
       "      <td>NaN</td>\n",
       "      <td>15</td>\n",
       "      <td>104</td>\n",
       "      <td>107</td>\n",
       "      <td>250</td>\n",
       "      <td>250</td>\n",
       "      <td>161</td>\n",
       "      <td>161</td>\n",
       "      <td>233</td>\n",
       "      <td>233</td>\n",
       "    </tr>\n",
       "    <tr>\n",
       "      <th>top</th>\n",
       "      <td>NaN</td>\n",
       "      <td>tt0111161</td>\n",
       "      <td>The Shawshank Redemption</td>\n",
       "      <td>NaN</td>\n",
       "      <td>NaN</td>\n",
       "      <td>NaN</td>\n",
       "      <td>U</td>\n",
       "      <td>130</td>\n",
       "      <td>Drama</td>\n",
       "      <td>nm0000209,nm0000151,nm0348409,nm0006669,nm0000...</td>\n",
       "      <td>Tim Robbins,Morgan Freeman,Bob Gunton,William ...</td>\n",
       "      <td>nm0634240</td>\n",
       "      <td>Christopher Nolan</td>\n",
       "      <td>Charles Chaplin</td>\n",
       "      <td>nm0000122</td>\n",
       "    </tr>\n",
       "    <tr>\n",
       "      <th>freq</th>\n",
       "      <td>NaN</td>\n",
       "      <td>1</td>\n",
       "      <td>1</td>\n",
       "      <td>NaN</td>\n",
       "      <td>NaN</td>\n",
       "      <td>NaN</td>\n",
       "      <td>79</td>\n",
       "      <td>9</td>\n",
       "      <td>19</td>\n",
       "      <td>1</td>\n",
       "      <td>1</td>\n",
       "      <td>7</td>\n",
       "      <td>7</td>\n",
       "      <td>4</td>\n",
       "      <td>4</td>\n",
       "    </tr>\n",
       "    <tr>\n",
       "      <th>mean</th>\n",
       "      <td>125.500000</td>\n",
       "      <td>NaN</td>\n",
       "      <td>NaN</td>\n",
       "      <td>1986.456000</td>\n",
       "      <td>6.204287e+05</td>\n",
       "      <td>8.311200</td>\n",
       "      <td>NaN</td>\n",
       "      <td>NaN</td>\n",
       "      <td>NaN</td>\n",
       "      <td>NaN</td>\n",
       "      <td>NaN</td>\n",
       "      <td>NaN</td>\n",
       "      <td>NaN</td>\n",
       "      <td>NaN</td>\n",
       "      <td>NaN</td>\n",
       "    </tr>\n",
       "    <tr>\n",
       "      <th>std</th>\n",
       "      <td>72.312977</td>\n",
       "      <td>NaN</td>\n",
       "      <td>NaN</td>\n",
       "      <td>25.214423</td>\n",
       "      <td>5.014117e+05</td>\n",
       "      <td>0.229445</td>\n",
       "      <td>NaN</td>\n",
       "      <td>NaN</td>\n",
       "      <td>NaN</td>\n",
       "      <td>NaN</td>\n",
       "      <td>NaN</td>\n",
       "      <td>NaN</td>\n",
       "      <td>NaN</td>\n",
       "      <td>NaN</td>\n",
       "      <td>NaN</td>\n",
       "    </tr>\n",
       "    <tr>\n",
       "      <th>min</th>\n",
       "      <td>1.000000</td>\n",
       "      <td>NaN</td>\n",
       "      <td>NaN</td>\n",
       "      <td>1921.000000</td>\n",
       "      <td>2.868000e+04</td>\n",
       "      <td>8.000000</td>\n",
       "      <td>NaN</td>\n",
       "      <td>NaN</td>\n",
       "      <td>NaN</td>\n",
       "      <td>NaN</td>\n",
       "      <td>NaN</td>\n",
       "      <td>NaN</td>\n",
       "      <td>NaN</td>\n",
       "      <td>NaN</td>\n",
       "      <td>NaN</td>\n",
       "    </tr>\n",
       "    <tr>\n",
       "      <th>25%</th>\n",
       "      <td>63.250000</td>\n",
       "      <td>NaN</td>\n",
       "      <td>NaN</td>\n",
       "      <td>1966.250000</td>\n",
       "      <td>2.099448e+05</td>\n",
       "      <td>8.100000</td>\n",
       "      <td>NaN</td>\n",
       "      <td>NaN</td>\n",
       "      <td>NaN</td>\n",
       "      <td>NaN</td>\n",
       "      <td>NaN</td>\n",
       "      <td>NaN</td>\n",
       "      <td>NaN</td>\n",
       "      <td>NaN</td>\n",
       "      <td>NaN</td>\n",
       "    </tr>\n",
       "    <tr>\n",
       "      <th>50%</th>\n",
       "      <td>125.500000</td>\n",
       "      <td>NaN</td>\n",
       "      <td>NaN</td>\n",
       "      <td>1994.000000</td>\n",
       "      <td>4.823150e+05</td>\n",
       "      <td>8.250000</td>\n",
       "      <td>NaN</td>\n",
       "      <td>NaN</td>\n",
       "      <td>NaN</td>\n",
       "      <td>NaN</td>\n",
       "      <td>NaN</td>\n",
       "      <td>NaN</td>\n",
       "      <td>NaN</td>\n",
       "      <td>NaN</td>\n",
       "      <td>NaN</td>\n",
       "    </tr>\n",
       "    <tr>\n",
       "      <th>75%</th>\n",
       "      <td>187.750000</td>\n",
       "      <td>NaN</td>\n",
       "      <td>NaN</td>\n",
       "      <td>2006.750000</td>\n",
       "      <td>9.356730e+05</td>\n",
       "      <td>8.400000</td>\n",
       "      <td>NaN</td>\n",
       "      <td>NaN</td>\n",
       "      <td>NaN</td>\n",
       "      <td>NaN</td>\n",
       "      <td>NaN</td>\n",
       "      <td>NaN</td>\n",
       "      <td>NaN</td>\n",
       "      <td>NaN</td>\n",
       "      <td>NaN</td>\n",
       "    </tr>\n",
       "    <tr>\n",
       "      <th>max</th>\n",
       "      <td>250.000000</td>\n",
       "      <td>NaN</td>\n",
       "      <td>NaN</td>\n",
       "      <td>2022.000000</td>\n",
       "      <td>2.601152e+06</td>\n",
       "      <td>9.300000</td>\n",
       "      <td>NaN</td>\n",
       "      <td>NaN</td>\n",
       "      <td>NaN</td>\n",
       "      <td>NaN</td>\n",
       "      <td>NaN</td>\n",
       "      <td>NaN</td>\n",
       "      <td>NaN</td>\n",
       "      <td>NaN</td>\n",
       "      <td>NaN</td>\n",
       "    </tr>\n",
       "  </tbody>\n",
       "</table>\n",
       "</div>"
      ],
      "text/plain": [
       "              rank         id                      name         year  \\\n",
       "count   250.000000        250                       250   250.000000   \n",
       "unique         NaN        250                       250          NaN   \n",
       "top            NaN  tt0111161  The Shawshank Redemption          NaN   \n",
       "freq           NaN          1                         1          NaN   \n",
       "mean    125.500000        NaN                       NaN  1986.456000   \n",
       "std      72.312977        NaN                       NaN    25.214423   \n",
       "min       1.000000        NaN                       NaN  1921.000000   \n",
       "25%      63.250000        NaN                       NaN  1966.250000   \n",
       "50%     125.500000        NaN                       NaN  1994.000000   \n",
       "75%     187.750000        NaN                       NaN  2006.750000   \n",
       "max     250.000000        NaN                       NaN  2022.000000   \n",
       "\n",
       "          imbd_votes  imdb_rating certificate duration  genre  \\\n",
       "count   2.500000e+02   250.000000         249      250    250   \n",
       "unique           NaN          NaN          15      104    107   \n",
       "top              NaN          NaN           U      130  Drama   \n",
       "freq             NaN          NaN          79        9     19   \n",
       "mean    6.204287e+05     8.311200         NaN      NaN    NaN   \n",
       "std     5.014117e+05     0.229445         NaN      NaN    NaN   \n",
       "min     2.868000e+04     8.000000         NaN      NaN    NaN   \n",
       "25%     2.099448e+05     8.100000         NaN      NaN    NaN   \n",
       "50%     4.823150e+05     8.250000         NaN      NaN    NaN   \n",
       "75%     9.356730e+05     8.400000         NaN      NaN    NaN   \n",
       "max     2.601152e+06     9.300000         NaN      NaN    NaN   \n",
       "\n",
       "                                                  cast_id  \\\n",
       "count                                                 250   \n",
       "unique                                                250   \n",
       "top     nm0000209,nm0000151,nm0348409,nm0006669,nm0000...   \n",
       "freq                                                    1   \n",
       "mean                                                  NaN   \n",
       "std                                                   NaN   \n",
       "min                                                   NaN   \n",
       "25%                                                   NaN   \n",
       "50%                                                   NaN   \n",
       "75%                                                   NaN   \n",
       "max                                                   NaN   \n",
       "\n",
       "                                                cast_name director_id  \\\n",
       "count                                                 250         250   \n",
       "unique                                                250         161   \n",
       "top     Tim Robbins,Morgan Freeman,Bob Gunton,William ...   nm0634240   \n",
       "freq                                                    1           7   \n",
       "mean                                                  NaN         NaN   \n",
       "std                                                   NaN         NaN   \n",
       "min                                                   NaN         NaN   \n",
       "25%                                                   NaN         NaN   \n",
       "50%                                                   NaN         NaN   \n",
       "75%                                                   NaN         NaN   \n",
       "max                                                   NaN         NaN   \n",
       "\n",
       "            director_name     writter_name writter_id  \n",
       "count                 250              250        250  \n",
       "unique                161              233        233  \n",
       "top     Christopher Nolan  Charles Chaplin  nm0000122  \n",
       "freq                    7                4          4  \n",
       "mean                  NaN              NaN        NaN  \n",
       "std                   NaN              NaN        NaN  \n",
       "min                   NaN              NaN        NaN  \n",
       "25%                   NaN              NaN        NaN  \n",
       "50%                   NaN              NaN        NaN  \n",
       "75%                   NaN              NaN        NaN  \n",
       "max                   NaN              NaN        NaN  "
      ]
     },
     "execution_count": 10,
     "metadata": {},
     "output_type": "execute_result"
    }
   ],
   "source": [
    "df.describe(include = 'all')"
   ]
  },
  {
   "cell_type": "markdown",
   "id": "5b33b04c",
   "metadata": {
    "papermill": {
     "duration": 0.007728,
     "end_time": "2022-11-28T07:04:35.692881",
     "exception": false,
     "start_time": "2022-11-28T07:04:35.685153",
     "status": "completed"
    },
    "tags": []
   },
   "source": [
    "**7. Which year had the highest average voting?**"
   ]
  },
  {
   "cell_type": "code",
   "execution_count": 11,
   "id": "6e6fe90f",
   "metadata": {
    "execution": {
     "iopub.execute_input": "2022-11-28T07:04:35.710190Z",
     "iopub.status.busy": "2022-11-28T07:04:35.709808Z",
     "iopub.status.idle": "2022-11-28T07:04:35.722252Z",
     "shell.execute_reply": "2022-11-28T07:04:35.721018Z"
    },
    "papermill": {
     "duration": 0.023716,
     "end_time": "2022-11-28T07:04:35.724404",
     "exception": false,
     "start_time": "2022-11-28T07:04:35.700688",
     "status": "completed"
    },
    "tags": []
   },
   "outputs": [
    {
     "data": {
      "text/plain": [
       "year\n",
       "1972    1796656.0\n",
       "1994    1753482.2\n",
       "2008    1475555.0\n",
       "1999    1457880.6\n",
       "1977    1330965.0\n",
       "          ...    \n",
       "1926      90362.0\n",
       "1953      60571.0\n",
       "1928      53911.0\n",
       "1924      48939.0\n",
       "1955      31958.0\n",
       "Name: imbd_votes, Length: 86, dtype: float64"
      ]
     },
     "execution_count": 11,
     "metadata": {},
     "output_type": "execute_result"
    }
   ],
   "source": [
    "df.groupby('year')['imbd_votes'].mean().sort_values(ascending = False)"
   ]
  },
  {
   "cell_type": "code",
   "execution_count": 12,
   "id": "597e9e1d",
   "metadata": {
    "execution": {
     "iopub.execute_input": "2022-11-28T07:04:35.742809Z",
     "iopub.status.busy": "2022-11-28T07:04:35.742136Z",
     "iopub.status.idle": "2022-11-28T07:04:38.467913Z",
     "shell.execute_reply": "2022-11-28T07:04:38.466609Z"
    },
    "papermill": {
     "duration": 2.737684,
     "end_time": "2022-11-28T07:04:38.470561",
     "exception": false,
     "start_time": "2022-11-28T07:04:35.732877",
     "status": "completed"
    },
    "tags": []
   },
   "outputs": [
    {
     "data": {
      "image/png": "[encoded data removed]",
      "text/plain": [
       "<Figure size 432x288 with 1 Axes>"
      ]
     },
     "metadata": {
      "needs_background": "light"
     },
     "output_type": "display_data"
    }
   ],
   "source": [
    "sns.barplot(x = 'year', y ='imbd_votes', data=df)\n",
    "plt.title(\"Votes by year\")\n",
    "plt.show()"
   ]
  },
  {
   "cell_type": "markdown",
   "id": "c26b4e1b",
   "metadata": {
    "papermill": {
     "duration": 0.008282,
     "end_time": "2022-11-28T07:04:38.487899",
     "exception": false,
     "start_time": "2022-11-28T07:04:38.479617",
     "status": "completed"
    },
    "tags": []
   },
   "source": [
    "**8. What is average rating of each director?**"
   ]
  },
  {
   "cell_type": "code",
   "execution_count": 13,
   "id": "7dead681",
   "metadata": {
    "execution": {
     "iopub.execute_input": "2022-11-28T07:04:38.507394Z",
     "iopub.status.busy": "2022-11-28T07:04:38.506961Z",
     "iopub.status.idle": "2022-11-28T07:04:38.518077Z",
     "shell.execute_reply": "2022-11-28T07:04:38.516803Z"
    },
    "papermill": {
     "duration": 0.023646,
     "end_time": "2022-11-28T07:04:38.520305",
     "exception": false,
     "start_time": "2022-11-28T07:04:38.496659",
     "status": "completed"
    },
    "tags": []
   },
   "outputs": [
    {
     "data": {
      "text/plain": [
       "director_name\n",
       "Frank Darabont                    8.950000\n",
       "Francis Ford Coppola              8.900000\n",
       "T.J. Gnanavel                     8.900000\n",
       "Peter Jackson                     8.866667\n",
       "Lana Wachowski,Lilly Wachowski    8.700000\n",
       "                                    ...   \n",
       "Mathieu Kassovitz                 8.100000\n",
       "Terry Jones                       8.000000\n",
       "Brad Bird                         8.000000\n",
       "Ron Clements,John Musker          8.000000\n",
       "Gary Trousdale,Kirk Wise          8.000000\n",
       "Name: imdb_rating, Length: 161, dtype: float64"
      ]
     },
     "execution_count": 13,
     "metadata": {},
     "output_type": "execute_result"
    }
   ],
   "source": [
    "df.groupby('director_name')['imdb_rating'].mean().sort_values(ascending = False)"
   ]
  },
  {
   "cell_type": "markdown",
   "id": "19a1a6fb",
   "metadata": {
    "papermill": {
     "duration": 0.008368,
     "end_time": "2022-11-28T07:04:38.537308",
     "exception": false,
     "start_time": "2022-11-28T07:04:38.528940",
     "status": "completed"
    },
    "tags": []
   },
   "source": [
    "**9. Number of movies per year**"
   ]
  },
  {
   "cell_type": "code",
   "execution_count": 14,
   "id": "be8a5956",
   "metadata": {
    "execution": {
     "iopub.execute_input": "2022-11-28T07:04:38.556790Z",
     "iopub.status.busy": "2022-11-28T07:04:38.556361Z",
     "iopub.status.idle": "2022-11-28T07:04:38.565172Z",
     "shell.execute_reply": "2022-11-28T07:04:38.564061Z"
    },
    "papermill": {
     "duration": 0.021318,
     "end_time": "2022-11-28T07:04:38.567334",
     "exception": false,
     "start_time": "2022-11-28T07:04:38.546016",
     "status": "completed"
    },
    "tags": []
   },
   "outputs": [
    {
     "data": {
      "text/plain": [
       "1995    8\n",
       "2004    7\n",
       "1957    6\n",
       "2019    6\n",
       "2003    6\n",
       "       ..\n",
       "1972    1\n",
       "1936    1\n",
       "1977    1\n",
       "1990    1\n",
       "1934    1\n",
       "Name: year, Length: 86, dtype: int64"
      ]
     },
     "execution_count": 14,
     "metadata": {},
     "output_type": "execute_result"
    }
   ],
   "source": [
    "df['year'].value_counts()"
   ]
  },
  {
   "cell_type": "code",
   "execution_count": 15,
   "id": "37df0bc8",
   "metadata": {
    "execution": {
     "iopub.execute_input": "2022-11-28T07:04:38.587204Z",
     "iopub.status.busy": "2022-11-28T07:04:38.586552Z",
     "iopub.status.idle": "2022-11-28T07:04:39.794914Z",
     "shell.execute_reply": "2022-11-28T07:04:39.793727Z"
    },
    "papermill": {
     "duration": 1.220858,
     "end_time": "2022-11-28T07:04:39.797171",
     "exception": false,
     "start_time": "2022-11-28T07:04:38.576313",
     "status": "completed"
    },
    "tags": []
   },
   "outputs": [
    {
     "data": {
      "text/plain": [
       "<AxesSubplot:xlabel='year', ylabel='count'>"
      ]
     },
     "execution_count": 15,
     "metadata": {},
     "output_type": "execute_result"
    },
    {
     "data": {
      "image/png": "[encoded data removed]",
      "text/plain": [
       "<Figure size 432x288 with 1 Axes>"
      ]
     },
     "metadata": {
      "needs_background": "light"
     },
     "output_type": "display_data"
    }
   ],
   "source": [
    "sns.countplot(x='year', data= df)"
   ]
  },
  {
   "cell_type": "markdown",
   "id": "9ebf07c6",
   "metadata": {
    "papermill": {
     "duration": 0.008954,
     "end_time": "2022-11-28T07:04:39.815572",
     "exception": false,
     "start_time": "2022-11-28T07:04:39.806618",
     "status": "completed"
    },
    "tags": []
   },
   "source": [
    "**10. Average movie ratings year wise**"
   ]
  },
  {
   "cell_type": "code",
   "execution_count": 16,
   "id": "13ea9e3e",
   "metadata": {
    "execution": {
     "iopub.execute_input": "2022-11-28T07:04:39.835351Z",
     "iopub.status.busy": "2022-11-28T07:04:39.834732Z",
     "iopub.status.idle": "2022-11-28T07:04:39.844389Z",
     "shell.execute_reply": "2022-11-28T07:04:39.843315Z"
    },
    "papermill": {
     "duration": 0.022203,
     "end_time": "2022-11-28T07:04:39.846530",
     "exception": false,
     "start_time": "2022-11-28T07:04:39.824327",
     "status": "completed"
    },
    "tags": []
   },
   "outputs": [
    {
     "data": {
      "text/plain": [
       "year\n",
       "1921    8.300000\n",
       "1924    8.200000\n",
       "1925    8.200000\n",
       "1926    8.200000\n",
       "1927    8.300000\n",
       "          ...   \n",
       "2018    8.350000\n",
       "2019    8.283333\n",
       "2020    8.300000\n",
       "2021    8.600000\n",
       "2022    8.450000\n",
       "Name: imdb_rating, Length: 86, dtype: float64"
      ]
     },
     "execution_count": 16,
     "metadata": {},
     "output_type": "execute_result"
    }
   ],
   "source": [
    "df.groupby('year')['imdb_rating'].mean()"
   ]
  }
 ],
 "metadata": {
  "kernelspec": {
   "display_name": "Python 3",
   "language": "python",
   "name": "python3"
  },
  "language_info": {
   "codemirror_mode": {
    "name": "ipython",
    "version": 3
   },
   "file_extension": ".py",
   "mimetype": "text/x-python",
   "name": "python",
   "nbconvert_exporter": "python",
   "pygments_lexer": "ipython3",
   "version": "3.7.12"
  },
  "papermill": {
   "default_parameters": {},
   "duration": 14.601546,
   "end_time": "2022-11-28T07:04:40.579115",
   "environment_variables": {},
   "exception": null,
   "input_path": "__notebook__.ipynb",
   "output_path": "__notebook__.ipynb",
   "parameters": {},
   "start_time": "2022-11-28T07:04:25.977569",
   "version": "2.3.4"
  }
 },
 "nbformat": 4,
 "nbformat_minor": 5
}
